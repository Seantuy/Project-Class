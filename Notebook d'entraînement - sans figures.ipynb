{
 "cells": [
  {
   "cell_type": "markdown",
   "metadata": {},
   "source": [
    "**Introduction**"
   ]
  },
  {
   "cell_type": "markdown",
   "metadata": {},
   "source": [
    "Programme NumPy pour obtenir la version numpy et afficher la configuration de build numpy"
   ]
  },
  {
   "cell_type": "code",
   "execution_count": 3,
   "metadata": {},
   "outputs": [
    {
     "ename": "ModuleNotFoundError",
     "evalue": "No module named 'numpy'",
     "output_type": "error",
     "traceback": [
      "\u001b[1;31m---------------------------------------------------------------------------\u001b[0m",
      "\u001b[1;31mModuleNotFoundError\u001b[0m                       Traceback (most recent call last)",
      "\u001b[1;32mh:\\Downloads\\Notebook d'entraînement - sans figures.ipynb Cell 3\u001b[0m line \u001b[0;36m1\n\u001b[1;32m----> <a href='vscode-notebook-cell:/h%3A/Downloads/Notebook%20d%27entra%C3%AEnement%20-%20sans%20figures.ipynb#W2sZmlsZQ%3D%3D?line=0'>1</a>\u001b[0m \u001b[39mimport\u001b[39;00m \u001b[39mnumpy\u001b[39;00m \u001b[39mas\u001b[39;00m \u001b[39mnp\u001b[39;00m\n\u001b[0;32m      <a href='vscode-notebook-cell:/h%3A/Downloads/Notebook%20d%27entra%C3%AEnement%20-%20sans%20figures.ipynb#W2sZmlsZQ%3D%3D?line=1'>2</a>\u001b[0m \u001b[39mprint\u001b[39m(np\u001b[39m.\u001b[39m__version__)\n\u001b[0;32m      <a href='vscode-notebook-cell:/h%3A/Downloads/Notebook%20d%27entra%C3%AEnement%20-%20sans%20figures.ipynb#W2sZmlsZQ%3D%3D?line=2'>3</a>\u001b[0m \u001b[39mprint\u001b[39m(np\u001b[39m.\u001b[39mshow_config())\n",
      "\u001b[1;31mModuleNotFoundError\u001b[0m: No module named 'numpy'"
     ]
    }
   ],
   "source": [
    "import numpy as np\n",
    "print(np.__version__)\n",
    "print(np.show_config())"
   ]
  },
  {
   "cell_type": "code",
   "execution_count": null,
   "metadata": {},
   "outputs": [],
   "source": [
    "pip install numpy\n"
   ]
  },
  {
   "cell_type": "markdown",
   "metadata": {},
   "source": [
    "Compréhension des éléments de base d'un array"
   ]
  },
  {
   "cell_type": "code",
   "execution_count": null,
   "metadata": {},
   "outputs": [],
   "source": [
    "my_2d_array = np.array([[1,2,3,4], [5,6,7,8]], dtype=np.int64)\n",
    "\n",
    "# Print out the shape of `my_array`\n",
    "print(my_2d_array.shape)\n",
    "print(\" \")\n",
    "\n",
    "# Print out the data type of `my_array`\n",
    "print(my_2d_array.dtype)\n",
    "print(\" \")\n",
    "\n",
    "# Print out the stride of `my_array`\n",
    "print(my_2d_array.strides)\n",
    "print(\" \")\n",
    "\n",
    "# Print the number of elements\n",
    "print(my_2d_array.size)\n",
    "print(\" \")"
   ]
  },
  {
   "cell_type": "markdown",
   "metadata": {},
   "source": [
    "Notion de copie en Numpy, comparez les deux situations suivantes"
   ]
  },
  {
   "cell_type": "code",
   "execution_count": null,
   "metadata": {},
   "outputs": [],
   "source": [
    "\n",
    "a=np.array([1, 2, 3, 4])\n",
    "b= np.copy(a) \n",
    "b[0]=2\n",
    "print(b)\n",
    "print(a)"
   ]
  },
  {
   "cell_type": "code",
   "execution_count": null,
   "metadata": {},
   "outputs": [],
   "source": [
    "a=np.array([1, 2, 3, 4])\n",
    "b= a\n",
    "b[0]=2\n",
    "print(b)\n",
    "print(a)"
   ]
  },
  {
   "cell_type": "markdown",
   "metadata": {},
   "source": [
    "Un array peut contenir toutes sortes d'éléments"
   ]
  },
  {
   "cell_type": "code",
   "execution_count": null,
   "metadata": {},
   "outputs": [],
   "source": [
    " np.array([True ,False ,True], dtype=bool)\n"
   ]
  },
  {
   "cell_type": "markdown",
   "metadata": {},
   "source": [
    "Nous allons maintenant regarder comment sauver un array, et identifier où nous l'avons sauvé"
   ]
  },
  {
   "cell_type": "code",
   "execution_count": null,
   "metadata": {},
   "outputs": [],
   "source": [
    "pwd()"
   ]
  },
  {
   "cell_type": "code",
   "execution_count": null,
   "metadata": {},
   "outputs": [],
   "source": [
    "a=np.array([1, 2, 3, 4])\n",
    "np.save( , a)"
   ]
  },
  {
   "cell_type": "markdown",
   "metadata": {},
   "source": [
    "Programme NumPy pour obtenir de l'aide sur la fonction d'ajout"
   ]
  },
  {
   "cell_type": "code",
   "execution_count": null,
   "metadata": {},
   "outputs": [],
   "source": [
    "print(np.info(np.all))"
   ]
  },
  {
   "cell_type": "markdown",
   "metadata": {},
   "source": [
    "La suppression d'éléments dans un array, cela peut servir ..."
   ]
  },
  {
   "cell_type": "code",
   "execution_count": null,
   "metadata": {},
   "outputs": [],
   "source": [
    "# Créer un tableau NumPy\n",
    "original_array = np.array([1, 2, 3, 4, 5])\n",
    "\n",
    "# Supprimer l'élément à la position 3\n",
    "deleted_array = np.delete(original_array, 3)\n",
    "\n",
    "# Afficher le tableau résultant\n",
    "print(\"Tableau après suppression :\\n\", deleted_array)"
   ]
  },
  {
   "cell_type": "markdown",
   "metadata": {},
   "source": [
    "Idem pour l'insertion d'un élément (on peut définir où réaliser l'insertion)"
   ]
  },
  {
   "cell_type": "code",
   "execution_count": null,
   "metadata": {},
   "outputs": [],
   "source": [
    "# Créer un tableau NumPy\n",
    "original_array = np.array([1, 2, 3, 4, 5])\n",
    "\n",
    "# Insérer la valeur 10 à la position 2\n",
    "inserted_array = np.insert(original_array, 2, 10)\n",
    "\n",
    "# Afficher le tableau résultant\n",
    "print(\"Tableau après insertion :\\n\", inserted_array)"
   ]
  },
  {
   "cell_type": "markdown",
   "metadata": {},
   "source": [
    "Programme NumPy pour tester si aucun des éléments d'un tableau donné n'est nul ou correspond à un False"
   ]
  },
  {
   "cell_type": "code",
   "execution_count": null,
   "metadata": {},
   "outputs": [],
   "source": [
    "x = np.array([1, 2, 3, 4])\n",
    "print(\"Original array:\")\n",
    "print(x)\n",
    "print(\"Test if none of the elements of the said array is zero:\")\n",
    "print(np.all(x))\n",
    "x = np.array([0, 1, 2, 3])\n",
    "print(\"Original array:\")\n",
    "print(x)\n",
    "print(\"Test if none of the elements of the said array is zero:\")\n",
    "print(np.all(x))\n",
    "x = np.array([False, True, True])\n",
    "print(\"Original array:\")\n",
    "print(x)\n",
    "print(\"Test if none of the elements of the said array is zero:\")\n",
    "print(np.all(x))\n",
    "x = np.array([True, True, True])\n",
    "print(\"Original array:\")\n",
    "print(x)\n",
    "print(\"Test if none of the elements of the said array is zero:\")\n",
    "print(np.all(x))"
   ]
  },
  {
   "cell_type": "markdown",
   "metadata": {},
   "source": [
    "Programme NumPy pour tester s'il existe un élément non nul ou correspondant à un True"
   ]
  },
  {
   "cell_type": "code",
   "execution_count": null,
   "metadata": {},
   "outputs": [],
   "source": [
    "x = np.array([1, 0, 0, 0])\n",
    "print(\"Original array:\")\n",
    "print(x)\n",
    "print(\"Test whether any of the elements of a given array is non-zero:\")\n",
    "print(np.any(x))\n",
    "x = np.array([0, 0, 0, 0])\n",
    "print(\"Original array:\")\n",
    "print(x)\n",
    "print(\"Test whether any of the elements of a given array is non-zero:\")\n",
    "print(np.any(x))"
   ]
  },
  {
   "cell_type": "markdown",
   "metadata": {},
   "source": [
    "Programme NumPy pour tester la finitude des élements d'un tableau donné, élément par élément (pas l'infini ou pas un NaN)"
   ]
  },
  {
   "cell_type": "code",
   "execution_count": null,
   "metadata": {},
   "outputs": [],
   "source": [
    "a = np.array([1, 0, np.nan, np.inf])\n",
    "print(\"Original array\")\n",
    "print(a)\n",
    "print(\"Test a given array element-wise for finiteness :\")\n",
    "print(np.isfinite(a))"
   ]
  },
  {
   "cell_type": "markdown",
   "metadata": {},
   "source": [
    "Programme NumPy pour tester élément par élément l'infini positif ou négatif"
   ]
  },
  {
   "cell_type": "code",
   "execution_count": null,
   "metadata": {},
   "outputs": [],
   "source": [
    "a = np.array([1, 0, np.nan, np.inf])\n",
    "print(\"Original array\")\n",
    "print(a)\n",
    "print(\"Test element-wise for positive or negative infinity:\")\n",
    "print(np.isinf(a))"
   ]
  },
  {
   "cell_type": "markdown",
   "metadata": {},
   "source": [
    "Programme NumPy pour tester élément par élément si NaN dans un tableau donné."
   ]
  },
  {
   "cell_type": "code",
   "execution_count": null,
   "metadata": {},
   "outputs": [],
   "source": [
    "a = np.array([1, 0, np.nan, np.inf])\n",
    "print(\"Original array\")\n",
    "print(a)\n",
    "print(\"Test element-wise for NaN:\")\n",
    "print(np.isnan(a))"
   ]
  },
  {
   "cell_type": "markdown",
   "metadata": {},
   "source": [
    "Programme NumPy pour tester si deux tableaux sont égaux élément par élément, avec une certaine tolérance. Au fait, quel argument correspond à quoi ?"
   ]
  },
  {
   "cell_type": "code",
   "execution_count": null,
   "metadata": {},
   "outputs": [],
   "source": [
    "print(\"Test if two arrays are element-wise equal within a tolerance:\")\n",
    "print(np.allclose([1e10, 1e-7], [1.00001e10, 1e-8]))\n",
    "print(np.allclose([1e10, 1e-8], [1.00001e10, 1e-9]))\n",
    "print(np.allclose([1e10, 1e-8], [1.0001e10, 1e-9]))\n",
    "print(np.allclose([1.0, np.nan], [1.0, np.nan]))\n",
    "print(np.allclose([1.0, np.nan], [1.0, np.nan], equal_nan=True))"
   ]
  },
  {
   "cell_type": "markdown",
   "metadata": {},
   "source": [
    "A comparer avec ceci :"
   ]
  },
  {
   "cell_type": "code",
   "execution_count": null,
   "metadata": {},
   "outputs": [],
   "source": [
    "x = np.array([72, 79, 85, 90, 150, -135, 120, -10, 60, 100])\n",
    "y = np.array([72, 79, 85, 90, 150, -135, 120, -10, 60, 100.000001])\n",
    "print(\"Original numbers:\")\n",
    "print(x)\n",
    "print(y)\n",
    "print(\"Comparison - equal:\")\n",
    "print(np.equal(x, y))\n",
    "print(\"Comparison - equal within a tolerance:\")\n",
    "print(np.allclose(x, y))"
   ]
  },
  {
   "cell_type": "markdown",
   "metadata": {},
   "source": [
    "Programme NumPy pour créer une comparaison élément par élément (plus grand, plus grand_ou égal, moins grand et moins grand_ou égal) de deux tableaux donnés."
   ]
  },
  {
   "cell_type": "code",
   "execution_count": null,
   "metadata": {},
   "outputs": [],
   "source": [
    "x = np.array([3, 5])\n",
    "y = np.array([2, 5])\n",
    "print(\"Original numbers:\")\n",
    "print(x)\n",
    "print(y)\n",
    "print(\"Comparison - greater\")\n",
    "print(np.greater(x, y))\n",
    "print(\"Comparison - greater_equal\")\n",
    "print(np.greater_equal(x, y))\n",
    "print(\"Comparison - less\")\n",
    "print(np.less(x, y))\n",
    "print(\"Comparison - less_equal\")\n",
    "print(np.less_equal(x, y))"
   ]
  },
  {
   "cell_type": "markdown",
   "metadata": {},
   "source": [
    "Vérifions si des valeurs sont bien dans un array"
   ]
  },
  {
   "cell_type": "code",
   "execution_count": null,
   "metadata": {},
   "outputs": [],
   "source": [
    "\n",
    "# Créer un tableau NumPy\n",
    "array = np.array([1, 2, 3, 4, 5])\n",
    "\n",
    "# Créer un ensemble de valeurs à vérifier\n",
    "values_to_check = np.array([2, 4, 6])\n",
    "\n",
    "# Utiliser np.isin pour vérifier l'appartenance des éléments du tableau à l'ensemble de valeurs\n",
    "result = np.isin(array, values_to_check)\n",
    "\n",
    "# Afficher le tableau de booléens résultant\n",
    "print(\"Tableau de booléens résultant :\\n\", result)\n"
   ]
  },
  {
   "cell_type": "markdown",
   "metadata": {},
   "source": [
    "Programme NumPy pour trouver les indices des valeurs maximales et minimales le long de l'axe donné d'un tableau.\n",
    "\n",
    "Tableau d'origine : [1 2 3 4 5 6]\n",
    "\n",
    "Valeurs maximales : 5\n",
    "\n",
    "Valeurs minimales : 0"
   ]
  },
  {
   "cell_type": "code",
   "execution_count": null,
   "metadata": {},
   "outputs": [],
   "source": [
    "x = np.array([1, 2, 3, 4, 5, 6])\n",
    "print(\"Original array: \", x)\n",
    "print(\"Maximum Values: \", np.argmax(x))\n",
    "print(\"Minimum Values: \", np.argmin(x))"
   ]
  },
  {
   "cell_type": "markdown",
   "metadata": {},
   "source": [
    "Programme NumPy pour trouver le 4ème élément d'un tableau spécifié.\n",
    "\n",
    "[[ 2  4  6]\n",
    "\n",
    "[ 6  8 10]]\n",
    "\n",
    "Quatrième élément du tableau :\n",
    "\n",
    "6"
   ]
  },
  {
   "cell_type": "code",
   "execution_count": null,
   "metadata": {},
   "outputs": [],
   "source": [
    "x = np.array([[2, 4, 6], [6, 8, 10]], np.int32)\n",
    "print(x)\n",
    "e1 = x.flat[3]\n",
    "print(\"Forth e1ement of the array:\")\n",
    "print(e1)"
   ]
  },
  {
   "cell_type": "markdown",
   "metadata": {},
   "source": [
    "**Génération de données**"
   ]
  },
  {
   "cell_type": "markdown",
   "metadata": {},
   "source": [
    "Programme NumPy pour créer un tableau avec les valeurs 1, 7, 13, 105 et déterminer la taille de la mémoire occupée par le tableau."
   ]
  },
  {
   "cell_type": "code",
   "execution_count": null,
   "metadata": {},
   "outputs": [],
   "source": [
    "X = np.array([1, 7, 13, 105])\n",
    "print(\"Original array:\")\n",
    "print(X)\n",
    "print(\"Size of the memory occupied by the said array:\")\n",
    "print(\"%d bytes\" % (X.size * X.itemsize))"
   ]
  },
  {
   "cell_type": "markdown",
   "metadata": {},
   "source": [
    "Programme NumPy pour créer un tableau de 10 zéros, un de 10 uns,  un de 10 cinq."
   ]
  },
  {
   "cell_type": "code",
   "execution_count": null,
   "metadata": {},
   "outputs": [],
   "source": [
    "array = np.zeros(10)\n",
    "print(\"An array of 10 zeros:\")\n",
    "print(array)\n",
    "array = np.ones(10)\n",
    "print(\"An array of 10 ones:\")\n",
    "print(array)\n",
    "array = np.ones(10)*5\n",
    "print(\"An array of 10 fives:\")\n",
    "print(array)"
   ]
  },
  {
   "cell_type": "markdown",
   "metadata": {},
   "source": [
    "Programme NumPy pour créer un tableau d'entiers allant de 30 à 70"
   ]
  },
  {
   "cell_type": "code",
   "execution_count": null,
   "metadata": {},
   "outputs": [],
   "source": [
    "array = np.arange(30, 71)\n",
    "print(\"Array of the integers from 30 to70\")\n",
    "print(array)\n"
   ]
  },
  {
   "cell_type": "markdown",
   "metadata": {},
   "source": [
    "Programme NumPy pour créer un tableau d'entiers allant de 30 à 70, de deux en deux"
   ]
  },
  {
   "cell_type": "code",
   "execution_count": null,
   "metadata": {},
   "outputs": [],
   "source": [
    "array = np.arange(30, 71, 2)\n",
    "print(\"Array of all the even integers from 30 to 70\")\n",
    "print(array)"
   ]
  },
  {
   "cell_type": "markdown",
   "metadata": {},
   "source": [
    "Programme NumPy pour créer une matrice d'identité 3x3"
   ]
  },
  {
   "cell_type": "code",
   "execution_count": null,
   "metadata": {},
   "outputs": [],
   "source": [
    "array_2D = np.identity(3)\n",
    "print('3x3 matrix:')\n",
    "print(array_2D)"
   ]
  },
  {
   "cell_type": "markdown",
   "metadata": {},
   "source": [
    "Programme NumPy pour générer un nombre aléatoire entre 0 et 1, pris au sein d'une distribution normale"
   ]
  },
  {
   "cell_type": "code",
   "execution_count": null,
   "metadata": {},
   "outputs": [],
   "source": [
    "rand_num = np.random.normal(0, 1, 1)\n",
    "print(\"Random number between 0 and 1:\")\n",
    "print(rand_num)"
   ]
  },
  {
   "cell_type": "markdown",
   "metadata": {},
   "source": [
    "Programme NumPy pour générer une séquence de nombres aléatoires pris entre 0 et 1, au sein d'une distribution normale"
   ]
  },
  {
   "cell_type": "code",
   "execution_count": null,
   "metadata": {},
   "outputs": [],
   "source": [
    "rand_num = np.random.normal(0, 1, 15)\n",
    "print(\"15 random numbers from a standard normal distribution:\")\n",
    "print(rand_num)"
   ]
  },
  {
   "cell_type": "markdown",
   "metadata": {},
   "source": [
    "Programme NumPy pour créer un vecteur de longueur 5 rempli d'entiers choisis arbitrairement entre 0 et 10."
   ]
  },
  {
   "cell_type": "code",
   "execution_count": null,
   "metadata": {},
   "outputs": [],
   "source": [
    "x = np.random.randint(0, 11, 5)\n",
    "print(\"Vector of length 5 filled with arbitrary integers from 0 to 10:\")\n",
    "print(x)"
   ]
  },
  {
   "cell_type": "markdown",
   "metadata": {},
   "source": [
    " NumPy pour créer un vecteur avec des valeurs allant de 15 à 55 et visionner toutes les valeurs sauf la première et la dernière"
   ]
  },
  {
   "cell_type": "code",
   "execution_count": null,
   "metadata": {},
   "outputs": [],
   "source": [
    "v = np.arange(15, 55)\n",
    "print(\"Original vector:\")\n",
    "print(v)\n",
    "print(\"All values except the first and last of the said vector:\")\n",
    "print(v[1:-1])"
   ]
  },
  {
   "cell_type": "markdown",
   "metadata": {},
   "source": [
    "Programme NumPy pour créer un tableau 3X4 en l'utilisant et itérer en son sein"
   ]
  },
  {
   "cell_type": "code",
   "execution_count": null,
   "metadata": {},
   "outputs": [],
   "source": [
    "a = np.arange(10, 22).reshape((3, 4))\n",
    "print(\"Original array:\")\n",
    "print(a)\n",
    "print(\"Each element of the array is:\")\n",
    "for x in np.nditer(a):\n",
    "    print(x, end=\" \")\n",
    "    "
   ]
  },
  {
   "cell_type": "markdown",
   "metadata": {},
   "source": [
    "Programme NumPy pour créer un vecteur de longueur 10 avec des valeurs uniformément réparties entre 5 et 50"
   ]
  },
  {
   "cell_type": "code",
   "execution_count": null,
   "metadata": {},
   "outputs": [],
   "source": [
    "v = np.linspace(10, 49, 5)\n",
    "print(\"Length 10 with values evenly distributed between 5 and 50:\")\n",
    "print(v)"
   ]
  },
  {
   "cell_type": "markdown",
   "metadata": {},
   "source": [
    "Programme NumPy pour convertir des tableaux 1-D sous forme de colonnes en un tableau 2-D.\n",
    "\n",
    "Exemple de tableau : (10,20,30), (40,50,60)\n",
    "\n",
    "Production attendue:\n",
    "\n",
    "[[10 40]\n",
    "\n",
    "[20 50]\n",
    "\n",
    "[30 60]]"
   ]
  },
  {
   "cell_type": "code",
   "execution_count": null,
   "metadata": {},
   "outputs": [],
   "source": [
    "a = np.array((10, 20, 30))\n",
    "b = np.array((40, 50, 60))\n",
    "c = np.column_stack((a, b))\n",
    "print(c)"
   ]
  },
  {
   "cell_type": "markdown",
   "metadata": {},
   "source": [
    "Écrivez un programme NumPy pour diviser un tableau de 14 éléments en 3 tableaux, dont chacun comprenant 2, 4 et 8 éléments dans l'ordre d'origine.\n",
    "\n",
    "Production attendue:\n",
    "\n",
    "Tableau d'origine : [ 1 2 3 4 5 6 7 8 9 10 11 12 13 14]\n",
    "\n",
    "Après le fractionnement :\n",
    "\n",
    "[array([1, 2]), array([3, 4, 5, 6]), array([ 7, 8, 9, 10, 11, 12, 13, 14])]"
   ]
  },
  {
   "cell_type": "code",
   "execution_count": null,
   "metadata": {},
   "outputs": [],
   "source": [
    "x = np.arange(1, 15)\n",
    "print(\"Original array:\", x)\n",
    "print(\"After splitting:\")\n",
    "print(np.split(x, [2, 6]))"
   ]
  },
  {
   "cell_type": "markdown",
   "metadata": {},
   "source": [
    "Réalisation d'un vertical split : quelle spécificité par rapport à la colonne précédente"
   ]
  },
  {
   "cell_type": "code",
   "execution_count": null,
   "metadata": {},
   "outputs": [],
   "source": [
    "arr = np.array([[1, 2], [3, 4], [5, 6], [7, 8], [9, 10], [11, 12]])\n",
    "print(\"Original Array:\")\n",
    "print(arr)\n",
    "sub_arrays = np.vsplit(arr, 3)\n",
    "print(sub_arrays )"
   ]
  },
  {
   "cell_type": "markdown",
   "metadata": {},
   "source": [
    "Comprendre pourquoi np.partition peut être utilisé pour ordonner un array, et comment sélectionner un certain nombre des valeurs les plus élevées"
   ]
  },
  {
   "cell_type": "code",
   "execution_count": null,
   "metadata": {},
   "outputs": [],
   "source": [
    "n=5 #Que se passe-t-il quand l'on fait évoluer la valeur de n ? Et pourquoi ?\n",
    "np.array([3, 1, 2, 4, 5])\n",
    "np.partition(arr,-n)"
   ]
  },
  {
   "cell_type": "code",
   "execution_count": null,
   "metadata": {},
   "outputs": [],
   "source": [
    "arr = np.array([3, 1, 2, 4, 5])\n",
    "n = 3\n",
    "print(np.partition(arr, -n)[-n:])\n",
    "\n"
   ]
  },
  {
   "cell_type": "markdown",
   "metadata": {},
   "source": [
    "Création d'une meshgrid"
   ]
  },
  {
   "cell_type": "code",
   "execution_count": null,
   "metadata": {},
   "outputs": [],
   "source": [
    "# Import NumPy and Matplotlib\n",
    "import numpy as np\n",
    "import matplotlib.pyplot as plt\n",
    "\n",
    "# Create an array\n",
    "points = np.arange(-5, 5, 0.01)\n",
    "\n",
    "# Make a meshgrid\n",
    "xs, ys = np.meshgrid(points, points)\n",
    "z = np.sqrt(xs ** 2 + ys ** 2)\n",
    "\n",
    "# Display the image on the axes\n",
    "plt.imshow(z, cmap=plt.cm.gray)\n",
    "\n",
    "# Draw a color bar\n",
    "plt.colorbar()\n",
    "\n",
    "# Show the plot\n",
    "plt.show()"
   ]
  },
  {
   "cell_type": "markdown",
   "metadata": {},
   "source": [
    "**Manipulation d'arrays - création d'arrays niveau avancé**"
   ]
  },
  {
   "cell_type": "markdown",
   "metadata": {},
   "source": [
    "Programme NumPy pour créer un vecteur avec des valeurs de 0 à 20 et changer le signe des nombres compris entre 9 et 15"
   ]
  },
  {
   "cell_type": "code",
   "execution_count": null,
   "metadata": {},
   "outputs": [],
   "source": [
    "x = np.arange(21)\n",
    "print(\"Original vector:\")\n",
    "print(x)\n",
    "print(\"After changing the sign of the numbers in the range from 9 to 15:\")\n",
    "x[(x >= 9) & (x <= 15)] *= -1\n",
    "print(x)"
   ]
  },
  {
   "cell_type": "markdown",
   "metadata": {},
   "source": [
    "NumPy program to convert a list of numeric value into a one-dimensional NumPy array."
   ]
  },
  {
   "cell_type": "code",
   "execution_count": null,
   "metadata": {},
   "outputs": [],
   "source": [
    "import matplotlib.pyplot as plt\n",
    "import numpy as np\n",
    "l = [12.23, 13.32, 100, 36.32]\n",
    "print(\"Original List:\", l)\n",
    "a = np.array(l)\n",
    "print(\"One-dimensional NumPy array: \", a)"
   ]
  },
  {
   "cell_type": "markdown",
   "metadata": {},
   "source": [
    "Inversez l'ordre des éléments d'un array\n",
    "\n",
    "Array original:\n",
    "\n",
    "[12 13 14 15 16 17 18 19 20 21 22 23 24 25 26 27 28 29 30 31 32 33 34 35 36 37]\n",
    "\n",
    "Array retourné:\n",
    "\n",
    "[37 36 35 34 33 32 31 30 29 28 27 26 25 24 23 22 21 20 19 18 17 16 15 14 13 12]"
   ]
  },
  {
   "cell_type": "code",
   "execution_count": null,
   "metadata": {},
   "outputs": [],
   "source": [
    "x = np.arange(12, 38)\n",
    "print(\"Original array:\")\n",
    "print(x)\n",
    "print(\"Reverse array:\")\n",
    "x = x[::-1]\n",
    "print(x)"
   ]
  },
  {
   "cell_type": "markdown",
   "metadata": {},
   "source": [
    "Écrivez un programme NumPy pour\n",
    "convertir un tableau en type float. Accédez à l'éditeur\n",
    "Exemple de sortie :\n",
    "Tableau d'origine :\n",
    "[1, 2, 3, 4]\n",
    "Tableau converti en type float :\n",
    "[ 1. 2. 3. 4.]"
   ]
  },
  {
   "cell_type": "code",
   "execution_count": null,
   "metadata": {},
   "outputs": [],
   "source": [
    "a = [1, 2, 3, 4]\n",
    "print(\"Original array\")\n",
    "print(a)\n",
    "x = np.asfarray(a)\n",
    "print(\"Array converted to a float type:\")\n",
    "print(x)"
   ]
  },
  {
   "cell_type": "markdown",
   "metadata": {},
   "source": [
    "Programme NumPy pour changer le type de données d'un tableau. Méthode avec as.type\n",
    "\n",
    "[[ 2  4  6]\n",
    "\n",
    "[ 6  8 10]]\n",
    "\n",
    "Le type de données du tableau x est : int32\n",
    "\n",
    "Nouveau Type :  float64\n",
    "\n",
    "[[  2.   4.   6.]\n",
    "\n",
    "[  6.   8.  10.]]"
   ]
  },
  {
   "cell_type": "code",
   "execution_count": null,
   "metadata": {},
   "outputs": [],
   "source": [
    "x = np.array([[2, 4, 6], [6, 8, 10]], np.int32)\n",
    "print(x)\n",
    "print(\"Data type of the array x is:\", x.dtype)\n",
    "# Change the data type of x\n",
    "y = x.astype(float)\n",
    "print(\"New Type: \", y.dtype)\n",
    "print(y)"
   ]
  },
  {
   "cell_type": "markdown",
   "metadata": {},
   "source": [
    "Programme NumPy pour créer un tableau 2D avec 1 sur la bordure et 0 à l'intérieur"
   ]
  },
  {
   "cell_type": "code",
   "execution_count": null,
   "metadata": {},
   "outputs": [],
   "source": [
    "x = np.ones((5, 5))\n",
    "print(\"Original array:\")\n",
    "print(x)\n",
    "print(\"1 on the border and 0 inside in the array\")\n",
    "x[1:-1, 1:-1] = 0\n",
    "print(x)"
   ]
  },
  {
   "cell_type": "markdown",
   "metadata": {},
   "source": [
    "Créez un échiquier de 1 et de 0 de 8*8"
   ]
  },
  {
   "cell_type": "code",
   "execution_count": null,
   "metadata": {},
   "outputs": [],
   "source": [
    "x = np.ones((3, 3))\n",
    "print(\"Checkerboard pattern:\")\n",
    "x = np.zeros((8, 8), dtype=int)\n",
    "x[1::2, ::2] = 1\n",
    "x[::2, 1::2] = 1\n",
    "print(x)"
   ]
  },
  {
   "cell_type": "markdown",
   "metadata": {},
   "source": [
    "Illustration du padding autour d'un array"
   ]
  },
  {
   "cell_type": "code",
   "execution_count": null,
   "metadata": {},
   "outputs": [],
   "source": [
    "import numpy as np\n",
    "\n",
    "# Créer un tableau numpy 2D de forme (3, 4)\n",
    "original_array = np.array([[1, 2, 3, 4],\n",
    "                           [5, 6, 7, 8],\n",
    "                           [9, 10, 11, 12]])\n",
    "\n",
    "# Spécifier le nombre de zéros à ajouter de chaque côté\n",
    "pad_width = ((1, 2), (2, 1))  # ((haut, bas), (gauche, droite))\n",
    "\n",
    "# Ajouter du padding en utilisant np.pad\n",
    "padded_array = np.pad(original_array, pad_width, mode='constant', constant_values=0)\n",
    "\n",
    "print(\"Tableau original :\\n\", original_array)\n",
    "print(\"\\nTableau avec padding :\\n\", padded_array)\n"
   ]
  },
  {
   "cell_type": "markdown",
   "metadata": {},
   "source": [
    "Écrivez un programme NumPy pour convertir une liste et un tuple en tableaux"
   ]
  },
  {
   "cell_type": "code",
   "execution_count": null,
   "metadata": {},
   "outputs": [],
   "source": [
    "my_list = [1, 2, 3, 4, 5, 6, 7, 8]\n",
    "print(\"List to array: \")\n",
    "print(np.asarray(my_list))\n",
    "my_tuple = ([8, 4, 6], [1, 2, 3])\n",
    "print(\"Tuple to array: \")\n",
    "print(np.asarray(my_tuple))"
   ]
  },
  {
   "cell_type": "markdown",
   "metadata": {},
   "source": [
    "Écrivez un programme NumPy pour ajouter des valeurs à la fin d'un tableau.\n",
    "Production attendue:\n",
    "Tableau d'origine :\n",
    "[10, 20, 30]\n",
    "Après avoir ajouté les valeurs à la fin du tableau :\n",
    "[10 20 30 40 50 60 70 80 90]"
   ]
  },
  {
   "cell_type": "code",
   "execution_count": null,
   "metadata": {},
   "outputs": [],
   "source": [
    "x = [10, 20, 30]\n",
    "print(\"Original array:\")\n",
    "print(x)\n",
    "x = np.append(x, [[40, 50, 60], [70, 80, 90]])\n",
    "print(\"After append values to the end of the array:\")\n",
    "print(x)"
   ]
  },
  {
   "cell_type": "markdown",
   "metadata": {},
   "source": [
    "Création d'un array vide, puis d'un array plein"
   ]
  },
  {
   "cell_type": "code",
   "execution_count": null,
   "metadata": {},
   "outputs": [],
   "source": [
    "# Create an empty array\n",
    "x = np.empty((3, 4))\n",
    "print(x)\n",
    "print('')\n",
    "# Create a full array\n",
    "y = np.full((3, 3), 6)\n",
    "print(y)"
   ]
  },
  {
   "cell_type": "markdown",
   "metadata": {},
   "source": [
    "Programme NumPy pour créer un tableau 3 D avec des uns sur une diagonale et des zéros ailleurs. Jouez un peu avec les dimensions\n",
    "\n",
    "Production attendue:\n",
    "\n",
    "[[ 1. 0. 0.]\n",
    "\n",
    "[ 0. 1. 0.]\n",
    "\n",
    "[ 0. 0. 1.]]"
   ]
  },
  {
   "cell_type": "code",
   "execution_count": null,
   "metadata": {},
   "outputs": [],
   "source": [
    "np.eye(3,3)"
   ]
  },
  {
   "cell_type": "markdown",
   "metadata": {},
   "source": [
    "Programme NumPy pour créer un tableau 2D dont la diagonale est égale à [4, 5, 6, 8] et 0 ailleurs .\n",
    "\n",
    "Production attendue:\n",
    "\n",
    "[[4 0 0 0]\n",
    "\n",
    "[0 5 0 0]\n",
    "\n",
    "[0 0 6 0]\n",
    "\n",
    "[0 0 0 8]]"
   ]
  },
  {
   "cell_type": "code",
   "execution_count": null,
   "metadata": {},
   "outputs": [],
   "source": [
    "x = np.diagflat([4, 5, 6, 8])\n",
    "print(x)"
   ]
  },
  {
   "cell_type": "markdown",
   "metadata": {},
   "source": [
    "Programme NumPy pour échanger deux axes d'un tableau.\n",
    "\n",
    "Exemple de résultat :\n",
    "\n",
    "[[1 2 3]]\n",
    "\n",
    "[[1]\n",
    "\n",
    "[2]\n",
    "\n",
    "[3]]"
   ]
  },
  {
   "cell_type": "code",
   "execution_count": null,
   "metadata": {},
   "outputs": [],
   "source": [
    "x = np.array([[1, 2, 3]])\n",
    "print(x)\n",
    "print(' ')\n",
    "y = np.swapaxes(x, 0, 1)\n",
    "print(y)"
   ]
  },
  {
   "cell_type": "markdown",
   "metadata": {},
   "source": [
    "Programme NumPy pour rendre un tableau immuable (lecture seule).\n",
    "\n",
    "Production attendue:\n",
    "\n",
    "Testez si le tableau est en lecture seule ou non :\n",
    "\n",
    "Essayez de changer la valeur du premier élément :\n",
    "\n",
    "Traceback (dernier appel le plus récent) :\n",
    "\n",
    "Fichier \"19236bd0-0bd9-11e7-a232-c706d0968eb6.py\", ligne 6, dans\n",
    "\n",
    "x[0] = 1\n",
    "\n",
    "ValueError : la destination de l'attribution est en lecture seule"
   ]
  },
  {
   "cell_type": "code",
   "execution_count": null,
   "metadata": {},
   "outputs": [],
   "source": [
    "x = np.zeros(10)\n",
    "x.flags.writeable = False\n",
    "print(\"Test the array is read-only or not:\")\n",
    "print(\"Try to change the value of the first element:\")\n",
    "x[0] = 1"
   ]
  },
  {
   "cell_type": "markdown",
   "metadata": {},
   "source": [
    "Programme NumPy pour créer un tableau de zéros et trois types de colonnes (entier, flottant, caractère).\n",
    "\n",
    "[(1,  2., b'Albert Einstein') (2,  2., b'Edmond Halley')\n",
    "\n",
    "(3,  3., b'Gertrude B. Elion')]"
   ]
  },
  {
   "cell_type": "code",
   "execution_count": null,
   "metadata": {},
   "outputs": [],
   "source": [
    "x = np.zeros((3,), dtype=('i4,f4,a40'))\n",
    "new_data = [(1, 2., \"Albert Einstein\"), (2, 2., \"Edmond Halley\"),\n",
    "            (3, 3., \"Gertrude B. Elion\")]\n",
    "x[:] = new_data\n",
    "print(x)"
   ]
  },
  {
   "cell_type": "markdown",
   "metadata": {},
   "source": [
    "**Opérations logico-mathématiques**"
   ]
  },
  {
   "cell_type": "markdown",
   "metadata": {},
   "source": [
    "Programme NumPy pour tester si chaque élément d'un tableau 1-D est également présent dans un deuxième tableau.\n",
    "\n",
    "Production attendue:\n",
    "\n",
    "Tableau 1 : [ 0 10 20 40 60]\n",
    "\n",
    "Tableau 2 : [0, 40\n",
    "\n",
    "Comparez chaque élément du tableau 1 et du tableau 2\n",
    "\n",
    "[ Vrai Faux Faux Vrai Faux]"
   ]
  },
  {
   "cell_type": "code",
   "execution_count": null,
   "metadata": {},
   "outputs": [],
   "source": [
    "array1 = np.array([0, 10, 20, 40, 60])\n",
    "print(\"Array1: \", array1)\n",
    "array2 = [0, 40]\n",
    "print(\"Array2: \", array2)\n",
    "print(\"Compare each element of array1 and array2\")\n",
    "print(np.in1d(array1, array2))"
   ]
  },
  {
   "cell_type": "markdown",
   "metadata": {},
   "source": [
    "Programme NumPy pour trouver des valeurs communes entre deux tableaux.\n",
    "\n",
    "Production attendue:\n",
    "\n",
    "Tableau 1 : [ 0 10 20 40 60]\n",
    "\n",
    "Tableau 2 : [10, 30, 40]\n",
    "\n",
    "Valeurs communes entre deux tableaux :\n",
    "\n",
    "[10 40]"
   ]
  },
  {
   "cell_type": "code",
   "execution_count": null,
   "metadata": {},
   "outputs": [],
   "source": [
    "array1 = np.array([0, 10, 20, 40, 60])\n",
    "print(\"Array1: \", array1)\n",
    "array2 = [10, 30, 40]\n",
    "print(\"Array2: \", array2)\n",
    "print(\"Common values between two arrays:\")\n",
    "print(np.intersect1d(array1, array2))"
   ]
  },
  {
   "cell_type": "markdown",
   "metadata": {},
   "source": [
    "Programme NumPy pour trouver la différence définie de deux tableaux. La différence définie renverra les valeurs triées et uniques dans le tableau 1 qui ne ne ne pas dans le tableau2.\n",
    "\n",
    "Production attendue:\n",
    "\n",
    "Tableau 1 : [ 0 10 20 40 60 80]\n",
    "\n",
    "Tableau 2 : [10, 30, 40, 50, 70, 90]\n",
    "\n",
    "Définir la différence entre deux tableaux :\n",
    "\n",
    "[ 0 20 60 80]"
   ]
  },
  {
   "cell_type": "code",
   "execution_count": null,
   "metadata": {},
   "outputs": [],
   "source": [
    "array1 = np.array([0, 10, 20, 40, 60, 80])\n",
    "print(\"Array1: \", array1)\n",
    "array2 = [10, 30, 40, 50, 70]\n",
    "print(\"Array2: \", array2)\n",
    "print(\"Unique values in array1 that are not in array2:\")\n",
    "print(np.setdiff1d(array1, array2))"
   ]
  },
  {
   "cell_type": "markdown",
   "metadata": {},
   "source": [
    "Programme NumPy pour trouver l'ensemble ou-exclusif de deux tableaux. Définir exclusif-ou renverra les valeurs uniques triées qui sont dans un seulement (pas les deux) des tableaux d'entrée.\n",
    "\n",
    "Tableau 1 : [ 0 10 20 40 60 80]\n",
    "\n",
    "Tableau 2 : [10, 30, 40, 50, 70]\n",
    "\n",
    "Valeurs uniques qui sont dans un seulement un (pas les deux) des tableaux d'entrée :\n",
    "\n",
    "[ 0 20 30 50 60 70 80]"
   ]
  },
  {
   "cell_type": "code",
   "execution_count": null,
   "metadata": {},
   "outputs": [],
   "source": [
    "array1 = np.array([0, 10, 20, 40, 60, 80])\n",
    "print(\"Array1: \", array1)\n",
    "array2 = [10, 30, 40, 50, 70]\n",
    "print(\"Array2: \", array2)\n",
    "print(\"Unique values that are in only one (not both) of the input arrays:\")\n",
    "print(np.setxor1d(array1, array2))"
   ]
  },
  {
   "cell_type": "markdown",
   "metadata": {},
   "source": [
    "\n",
    "Programme NumPy pour trouver l'union de deux tableaux. Union renverra le tableau unique et trié de valeurs qui sont dans l'un des deux tableaux d'entrée.\n",
    "\n",
    "Tableau 1 : [ 0 10 20 40 60 80]\n",
    "\n",
    "Tableau 2 : [10, 30, 40, 50, 70]\n",
    "\n",
    "Tableau trié unique de valeurs qui se dans l'un des deux tableaux d'entrée :\n",
    "\n",
    "[ 0 10 20 30 40 50 60 70 80]"
   ]
  },
  {
   "cell_type": "code",
   "execution_count": null,
   "metadata": {},
   "outputs": [],
   "source": [
    "array1 = np.array([0, 10, 20, 40, 60, 80])\n",
    "print(\"Array1: \", array1)\n",
    "array2 = [10, 30, 40, 50, 70]\n",
    "print(\"Array2: \", array2)\n",
    "print(\"Unique sorted array of values that are in either of the two input arrays:\")\n",
    "print(np.union1d(array1, array2))"
   ]
  },
  {
   "cell_type": "markdown",
   "metadata": {},
   "source": [
    "Programme NumPy pour calculer les valeurs moyennes de deux tableaux NumPy donnés.\n",
    "\n",
    "Exemple de résultat :\n",
    "\n",
    "Tableaux d'origine :\n",
    "\n",
    "[[0, 1], [2, 3]]\n",
    "\n",
    "[[4, 5], [0, 3]]\n",
    "\n",
    "Valeurs moyennes de deux tableaux NumPy :\n",
    "\n",
    "[[2. 3.]\n",
    "\n",
    "[1. 3.]]"
   ]
  },
  {
   "cell_type": "code",
   "execution_count": null,
   "metadata": {},
   "outputs": [],
   "source": [
    "array1 = [[0, 1], [2, 3]]\n",
    "array2 = [[4, 5], [0, 3]]\n",
    "print(\"Original arrays:\")\n",
    "print(array1)\n",
    "print(array2)\n",
    "print(\"Average values of two said numpy arrays:\")\n",
    "result = (np.array(array1) + np.array(array2)) / 2\n",
    "print(result)"
   ]
  },
  {
   "cell_type": "markdown",
   "metadata": {},
   "source": [
    "Programme NumPy pour calculer la somme de toutes les colonnes d'un tableau NumPy 2D.\n",
    "\n",
    "Exemple de résultat :\n",
    "\n",
    "Tableau d'origine :\n",
    "\n",
    "[[ 0 1 2 3 4 5 6 7 8]\n",
    "\n",
    "[ 9 10 11 12 13 14 15 16 17]\n",
    "\n",
    "[18 19 20 21 22 23 24 25 26]\n",
    "\n",
    "[27 28 29 30 31 32 33 34 35]]\n",
    "\n",
    "Somme de toutes les colonnes :\n",
    "\n",
    "[54 58 62 66 70 74 78 82 86]"
   ]
  },
  {
   "cell_type": "code",
   "execution_count": null,
   "metadata": {},
   "outputs": [],
   "source": [
    "num = np.arange(36)\n",
    "arr1 = np.reshape(num, [4, 9])\n",
    "print(\"Original array:\")\n",
    "print(arr1)\n",
    "result = arr1.sum(axis=0)\n",
    "print(\"\\nSum of all columns:\")\n",
    "print(result)"
   ]
  },
  {
   "cell_type": "markdown",
   "metadata": {},
   "source": [
    "**Wrangling (un peu plus) avancé**"
   ]
  },
  {
   "cell_type": "markdown",
   "metadata": {},
   "source": [
    "Aplatir l'array 2*2 de votre choix avec np.ravel"
   ]
  },
  {
   "cell_type": "code",
   "execution_count": null,
   "metadata": {},
   "outputs": [],
   "source": []
  },
  {
   "cell_type": "markdown",
   "metadata": {},
   "source": [
    "Écrivez un programme NumPy pour échanger des colonnes dans un tableau donné.\n",
    "\n",
    "Tableau d'origine :\n",
    "\n",
    "[[ 0  1  2  3]\n",
    "\n",
    "[ 4  5  6  7]\n",
    "\n",
    "[ 8  9 10 11]]\n",
    "\n",
    "Après avoir échangé les tableaux :\n",
    "\n",
    "[[ 1  0  2  3]\n",
    "\n",
    "[ 5  4  6  7]\n",
    "\n",
    "[ 9  8 10 11]]"
   ]
  },
  {
   "cell_type": "code",
   "execution_count": null,
   "metadata": {},
   "outputs": [],
   "source": [
    "my_array = np.arange(12).reshape(3, 4)\n",
    "print(\"Original array:\")\n",
    "print(my_array)\n",
    "my_array[:, [0, 1]] = my_array[:, [1, 0]]\n",
    "print(\"\\nAfter swapping arrays:\")\n",
    "print(my_array)"
   ]
  },
  {
   "cell_type": "code",
   "execution_count": null,
   "metadata": {},
   "outputs": [],
   "source": [
    "x = np.array([24, 27, 30, 29, 18, 14])\n",
    "print(\"Original array:\")\n",
    "print(x)\n",
    "y = np.empty_like(x)\n",
    "y[:] = x\n",
    "print(\"\\nCopy of the said array:\")\n",
    "print(y)"
   ]
  },
  {
   "cell_type": "markdown",
   "metadata": {},
   "source": [
    "Maintenant, jouez avec le code suivant, que constatez-vous ?"
   ]
  },
  {
   "cell_type": "code",
   "execution_count": null,
   "metadata": {},
   "outputs": [],
   "source": [
    "y[0]=0\n",
    "y=x\n",
    "x"
   ]
  },
  {
   "cell_type": "markdown",
   "metadata": {},
   "source": [
    "Programme NumPy pour extraire tous les éléments des deuxième et troisième colonnes d'un tableau (4x4) donné.\n",
    "\n",
    "Exemple de résultat :\n",
    "\n",
    "Tableau d'origine :\n",
    "\n",
    "[[ 0 1 2 3]\n",
    "\n",
    "[ 4 5 6 7]\n",
    "\n",
    "[ 8 9 10 11]\n",
    "\n",
    "[12 13 14 15]]\n",
    "\n",
    "Données extraites : Tous les éléments des deuxième et troisième colonnes\n",
    "\n",
    "[[ 1 2]\n",
    "\n",
    "[ 5 6]\n",
    "\n",
    "[ 9 10]\n",
    "\n",
    "[13 14]]"
   ]
  },
  {
   "cell_type": "code",
   "execution_count": null,
   "metadata": {},
   "outputs": [],
   "source": [
    "arra_data = np.arange(0, 16).reshape((4, 4))\n",
    "print(\"Original array:\")\n",
    "print(arra_data)\n",
    "print(\"\\nExtracted data: All the elements of the second and third columns\")\n",
    "print(arra_data[:, [1, 2]])"
   ]
  },
  {
   "cell_type": "markdown",
   "metadata": {},
   "source": [
    "Programme NumPy pour empiler des tableaux en séquence horizontalement (par colonne ).\n",
    "\n",
    "Exemple de résultat :\n",
    "\n",
    "Tableaux d'origine :\n",
    "\n",
    "Tableau-1\n",
    "\n",
    "[[0 1 2]\n",
    "\n",
    "[3 4 5]\n",
    "\n",
    "[6 7 8]]\n",
    "\n",
    "Tableau-2\n",
    "\n",
    "[[ 0 3 6]\n",
    "\n",
    "[ 9 12 15]\n",
    "\n",
    "[18 21 24]]\n",
    "\n",
    "Empilez les tableaux dans l'ordre horizontalement :\n",
    "\n",
    "[[ 0 1 2 0 3 6]\n",
    "\n",
    "[ 3 4 5 9 12 15]\n",
    "\n",
    "[ 6 7 8 18 21 24]]"
   ]
  },
  {
   "cell_type": "code",
   "execution_count": null,
   "metadata": {},
   "outputs": [],
   "source": [
    "print(\"\\nOriginal arrays:\")\n",
    "x = np.arange(9).reshape(3, 3)\n",
    "y = x*3\n",
    "print(\"Array-1\")\n",
    "print(x)\n",
    "print(\"Array-2\")\n",
    "print(y)\n",
    "new_array = np.hstack((x, y))\n",
    "print(\"\\nStack arrays in sequence horizontally:\")\n",
    "print(new_array)"
   ]
  },
  {
   "cell_type": "markdown",
   "metadata": {},
   "source": [
    "Transposition d'un array"
   ]
  },
  {
   "cell_type": "code",
   "execution_count": null,
   "metadata": {},
   "outputs": [],
   "source": [
    "import numpy as np\n",
    "my_2d_array = np.array([[1,2,3,4], [5,6,7,8]], dtype=np.int64)\n",
    "\n",
    "# Print `my_2d_array`\n",
    "print(my_2d_array)\n",
    "\n",
    "# Transpose `my_2d_array`\n",
    "print(np.transpose(my_2d_array))\n",
    "\n",
    "# Or use `T` to transpose `my_2d_array`\n",
    "print(my_2d_array.T)"
   ]
  },
  {
   "cell_type": "markdown",
   "metadata": {},
   "source": [
    "Programme NumPy pour calculer le lineplot des éléments d'un array"
   ]
  },
  {
   "cell_type": "code",
   "execution_count": null,
   "metadata": {},
   "outputs": [],
   "source": [
    "arr = np.random.randint(1, 50, 10)\n",
    "y, x = np.histogram(arr, bins=np.arange(51))\n",
    "fig, ax = plt.subplots()\n",
    "ax.plot(x[:-1], y)\n",
    "fig.show()"
   ]
  },
  {
   "cell_type": "markdown",
   "metadata": {},
   "source": [
    "**Algèbre linéaire**"
   ]
  },
  {
   "cell_type": "markdown",
   "metadata": {},
   "source": [
    "Programme NumPy pour calculer la multiplication de deux matrices données.\n",
    "\n",
    "matrice originale :\n",
    "\n",
    "[[1, 0], [0, 1]]\n",
    "\n",
    "[[1, 2], [3, 4]]\n",
    "\n",
    "Résultat de ladite multiplication matricielle :\n",
    "\n",
    "[[1 2]\n",
    "\n",
    "[3 4]]"
   ]
  },
  {
   "cell_type": "code",
   "execution_count": null,
   "metadata": {},
   "outputs": [],
   "source": [
    "p = [[1, 0], [0, 1]]\n",
    "q = [[1, 2], [3, 4]]\n",
    "print(\"original matrix:\")\n",
    "print(p)\n",
    "print(q)\n",
    "result1 = np.dot(p, q)\n",
    "print(\"Result of the said matrix multiplication:\")\n",
    "print(result1)"
   ]
  },
  {
   "cell_type": "markdown",
   "metadata": {},
   "source": [
    "Programme NumPy pour calculer le produit externe de deux vecteurs donnés.\n",
    "\n",
    "matrice originale :\n",
    "\n",
    "[[1, 0], [0, 1]]\n",
    "\n",
    "[[1, 2], [3, 4]]\n",
    "\n",
    "Produit externe desdits deux vecteurs :\n",
    "\n",
    "[[1 2 3 4]\n",
    "\n",
    "[0 0 0 0]\n",
    "\n",
    "[0 0 0 0]\n",
    "\n",
    "[1 2 3 4]]"
   ]
  },
  {
   "cell_type": "code",
   "execution_count": null,
   "metadata": {},
   "outputs": [],
   "source": [
    "p = [[1, 0], [0, 1]]\n",
    "q = [[1, 2], [3, 4]]\n",
    "print(\"original matrix:\")\n",
    "print(p)\n",
    "print(q)\n",
    "result = np.outer(p, q)\n",
    "print(\"Outer product of the said two vectors:\")\n",
    "print(result)"
   ]
  },
  {
   "cell_type": "markdown",
   "metadata": {},
   "source": [
    "Programme NumPy pour calculer le produit vectoriel de deux vecteurs donnés."
   ]
  },
  {
   "cell_type": "code",
   "execution_count": null,
   "metadata": {},
   "outputs": [],
   "source": [
    "p = [[1, 0], [0, 1]]\n",
    "q = [[1, 2], [3, 4]]\n",
    "print(\"original matrix:\")\n",
    "print(p)\n",
    "print(q)\n",
    "result1 = np.cross(p, q)\n",
    "result2 = np.cross(q, p)\n",
    "print(\"cross product of the said two vectors(p, q):\")\n",
    "print(result1)\n",
    "print(\"cross product of the said two vectors(q, p):\")\n",
    "print(result2)"
   ]
  },
  {
   "cell_type": "markdown",
   "metadata": {},
   "source": [
    "Programme NumPy pour calculer le déterminant d'un tableau carré donné.\n",
    "\n",
    "Tableau 2D d'origine\n",
    "\n",
    "[[1 0]\n",
    "\n",
    "[1 2]]\n",
    "\n",
    "Déterminant du dit matrice 2-D :\n",
    "\n",
    "2.0"
   ]
  },
  {
   "cell_type": "code",
   "execution_count": null,
   "metadata": {},
   "outputs": [],
   "source": [
    "a = np.array([[1, 0], [1, 2]])\n",
    "print(\"Original 2-d array\")\n",
    "print(a)\n",
    "print(\"Determinant of the said 2-D array:\")\n",
    "print(np.linalg.det(a))"
   ]
  },
  {
   "cell_type": "markdown",
   "metadata": {},
   "source": [
    "Programme NumPy pour trouver une norme matricielle ou vectorielle"
   ]
  },
  {
   "cell_type": "code",
   "execution_count": null,
   "metadata": {},
   "outputs": [],
   "source": [
    "v = np.arange(7)\n",
    "result = np.linalg.norm(v)\n",
    "print(\"Vector norm:\")\n",
    "print(result)\n",
    "m = np.matrix('1, 2; 3, 4')\n",
    "result1 = np.linalg.norm(m)\n",
    "print(\"Matrix norm:\")\n",
    "print(result1)"
   ]
  },
  {
   "cell_type": "markdown",
   "metadata": {},
   "source": [
    "Programme NumPy pour calculer la matrice inverse d'une matrice donnée"
   ]
  },
  {
   "cell_type": "code",
   "execution_count": null,
   "metadata": {},
   "outputs": [],
   "source": [
    "m = np.array([[1, 2], [3, 4]])\n",
    "print(\"Original matrix:\")\n",
    "print(m)\n",
    "result = np.linalg.inv(m)\n",
    "print(\"Inverse of the said matrix:\")\n",
    "print(result)"
   ]
  },
  {
   "cell_type": "code",
   "execution_count": null,
   "metadata": {},
   "outputs": [],
   "source": [
    "m = np.array([[1, 2], [3, 4]])\n",
    "print(\"Original matrix:\")\n",
    "print(m)\n",
    "result = np.linalg.cond(m)\n",
    "print(\"Condition number of the said matrix:\")\n",
    "print(result)"
   ]
  },
  {
   "cell_type": "markdown",
   "metadata": {},
   "source": [
    "Programme NumPy pour calculer la somme des éléments diagonaux d'un tableau donné."
   ]
  },
  {
   "cell_type": "code",
   "execution_count": null,
   "metadata": {},
   "outputs": [],
   "source": [
    "m = np.arange(6).reshape(2, 3)\n",
    "print(\"Original matrix:\")\n",
    "print(m)\n",
    "result = np.trace(m)\n",
    "print(\"Condition number of the said matrix:\")\n",
    "print(result)"
   ]
  },
  {
   "cell_type": "markdown",
   "metadata": {},
   "source": [
    "\n",
    "Programme NumPy pour obtenir le L triangulaire inférieur dans la décomposition de Cholesky d'un tableau donné."
   ]
  },
  {
   "cell_type": "code",
   "execution_count": null,
   "metadata": {},
   "outputs": [],
   "source": [
    "a = np.array([[4, 12, -16], [12, 37, -53], [-16, -53, 98]], dtype=np.int32)\n",
    "print(\"Original array:\")\n",
    "print(a)\n",
    "L = np.linalg.cholesky(a)\n",
    "print(\"Lower-trianglular L in the Cholesky decomposition of the said array:\")\n",
    "print(L)"
   ]
  },
  {
   "cell_type": "markdown",
   "metadata": {},
   "source": [
    "Multiplication de matrice avec NumPy"
   ]
  },
  {
   "cell_type": "code",
   "execution_count": null,
   "metadata": {},
   "outputs": [],
   "source": [
    "x = [[1, 0], [1, 1]]\n",
    "y = [[3, 1], [2, 2]]\n",
    "print(\"Matrices and vectors.\")\n",
    "print(\"x:\")\n",
    "print(x)\n",
    "print(\"y:\")\n",
    "print(y)\n",
    "print(\"Matrix product of above two arrays:\")\n",
    "print(np.matmul(x, y))"
   ]
  },
  {
   "cell_type": "markdown",
   "metadata": {},
   "source": [
    "**Opérations mathématiques**"
   ]
  },
  {
   "cell_type": "markdown",
   "metadata": {},
   "source": [
    "Programme NumPy pour ajouter, soustraire, multiplier, diviser des arguments par élément."
   ]
  },
  {
   "cell_type": "code",
   "execution_count": null,
   "metadata": {},
   "outputs": [],
   "source": [
    "from numpy.polynomial import polynomial as P\n",
    "import numpy as np\n",
    "print(\"Add:\")\n",
    "print(np.add(1.0, 4.0))\n",
    "print(\"Subtract:\")\n",
    "print(np.subtract(1.0, 4.0))\n",
    "print(\"Multiply:\")\n",
    "print(np.multiply(1.0, 4.0))\n",
    "print(\"Divide:\")\n",
    "print(np.divide(1.0, 4.0))"
   ]
  },
  {
   "cell_type": "markdown",
   "metadata": {},
   "source": [
    "Programme NumPy pour diviser les éléments du tableau par élément."
   ]
  },
  {
   "cell_type": "code",
   "execution_count": null,
   "metadata": {},
   "outputs": [],
   "source": [
    "x = np.arange(10)\n",
    "print(\"Original array:\")\n",
    "print(x)\n",
    "print(\"Division of the array inputs, element-wise:\")\n",
    "print(np.true_divide(x, 3))"
   ]
  },
  {
   "cell_type": "markdown",
   "metadata": {},
   "source": [
    "Programme NumPy pour obtenir le plus grand entier inférieur ou égal à la division des entrées"
   ]
  },
  {
   "cell_type": "code",
   "execution_count": null,
   "metadata": {},
   "outputs": [],
   "source": [
    "x = [1., 2., 3., 4.]\n",
    "print(\"Original array:\")\n",
    "print(x)\n",
    "print(\"Largest integer smaller or equal to the division of the inputs:\")\n",
    "print(np.floor_divide(x, 1.5))"
   ]
  },
  {
   "cell_type": "markdown",
   "metadata": {},
   "source": [
    "Passage à la puissance"
   ]
  },
  {
   "cell_type": "code",
   "execution_count": null,
   "metadata": {},
   "outputs": [],
   "source": [
    "x = np.arange(7)\n",
    "print(\"Original array\")\n",
    "print(x)\n",
    "print(\"First array elements raised to powers from second array, element-wise:\")\n",
    "print(np.power(x, 3))"
   ]
  },
  {
   "cell_type": "markdown",
   "metadata": {},
   "source": [
    "Obtention de la valeur absolue pour un array"
   ]
  },
  {
   "cell_type": "code",
   "execution_count": null,
   "metadata": {},
   "outputs": [],
   "source": [
    "x = np.array([-10.2, 122.2, .20])\n",
    "print(\"Original array:\")\n",
    "print(x)\n",
    "print(\"Element-wise absolute value:\")\n",
    "print(np.absolute(x))"
   ]
  },
  {
   "cell_type": "markdown",
   "metadata": {},
   "source": [
    "Passage à l'arrondi"
   ]
  },
  {
   "cell_type": "code",
   "execution_count": null,
   "metadata": {},
   "outputs": [],
   "source": [
    "x = np.round([1.45, 1.50, 1.55])\n",
    "print(x)\n",
    "x = np.round([0.28, .50, .64], decimals=1)\n",
    "print(x)\n",
    "x = np.round([.5, 1.5, 2.5, 3.5, 4.5])  # rounds to nearest even value\n",
    "print(x)"
   ]
  },
  {
   "cell_type": "markdown",
   "metadata": {},
   "source": [
    "Programme NumPy pour arrondir les éléments du tableau à l'entier le plus proche."
   ]
  },
  {
   "cell_type": "code",
   "execution_count": null,
   "metadata": {},
   "outputs": [],
   "source": [
    "x = np.array([-.7, -1.5, -1.7, 0.3, 1.5, 1.8, 2.0])\n",
    "print(\"Original array:\")\n",
    "print(x)\n",
    "x = np.rint(x)\n",
    "print(\"Round elements of the array to the nearest integer:\")\n",
    "print(x)"
   ]
  },
  {
   "cell_type": "markdown",
   "metadata": {},
   "source": [
    "Entier ingérieur, entier supérieur, valeur tronquée (entier)"
   ]
  },
  {
   "cell_type": "code",
   "execution_count": null,
   "metadata": {},
   "outputs": [],
   "source": [
    "x = np.array([-1.6, -1.5, -0.3, 0.1, 1.4, 1.8, 2.0])\n",
    "print(\"Original array:\")\n",
    "print(x)\n",
    "print(\"Floor values of the above array elements:\")\n",
    "print(np.floor(x))\n",
    "print(\"Ceil values of the above array elements:\")\n",
    "print(np.ceil(x))\n",
    "print(\"Truncated values of the above array elements:\")\n",
    "print(np.trunc(x))"
   ]
  },
  {
   "cell_type": "markdown",
   "metadata": {},
   "source": [
    "Programme NumPy pour multiplier une matrice 5x3 par une matrice 3x2 et créer un produit matriciel."
   ]
  },
  {
   "cell_type": "code",
   "execution_count": null,
   "metadata": {},
   "outputs": [],
   "source": [
    "x = np.random.random((5, 3))\n",
    "print(\"First array:\")\n",
    "print(x)\n",
    "y = np.random.random((3, 2))\n",
    "print(\"Second array:\")\n",
    "print(y)\n",
    "z = np.dot(x, y)\n",
    "print(\"Dot product of two arrays:\")\n",
    "print(z)"
   ]
  },
  {
   "cell_type": "markdown",
   "metadata": {},
   "source": [
    "Recherche des racines d'un polynôme avec NumPy"
   ]
  },
  {
   "cell_type": "code",
   "execution_count": null,
   "metadata": {},
   "outputs": [],
   "source": [
    "print(\"Roots of the first polynomial:\")\n",
    "print(np.roots([1, -2, 1]))\n",
    "print(\"Roots of the second polynomial:\")\n",
    "print(np.roots([1, -12, 10, 7, -10]))"
   ]
  },
  {
   "cell_type": "markdown",
   "metadata": {},
   "source": [
    "Calculs avec un polynôme"
   ]
  },
  {
   "cell_type": "code",
   "execution_count": null,
   "metadata": {},
   "outputs": [],
   "source": [
    "print(np.polyval([1, -2, 1], 2))\n",
    "print(\"Polynomial value when x = 3:\")\n",
    "print(np.polyval([1, -12, 10, 7, -10], 3))"
   ]
  },
  {
   "cell_type": "markdown",
   "metadata": {},
   "source": [
    "Programme NumPy pour calculer la moyenne sur toute dimension, dans un tableau numpy 2D."
   ]
  },
  {
   "cell_type": "code",
   "execution_count": null,
   "metadata": {},
   "outputs": [],
   "source": [
    "x = np.array([[10, 30], [20, 60]])\n",
    "print(\"Original array:\")\n",
    "print(x)\n",
    "print(\"Mean of each column:\")\n",
    "print(x.mean(axis=0))\n",
    "print(\"Mean of each row:\")\n",
    "print(x.mean(axis=1))"
   ]
  },
  {
   "cell_type": "markdown",
   "metadata": {},
   "source": [
    "Faire de même avec la variance et l'écart-type"
   ]
  },
  {
   "cell_type": "code",
   "execution_count": null,
   "metadata": {},
   "outputs": [],
   "source": []
  },
  {
   "cell_type": "markdown",
   "metadata": {},
   "source": [
    "Imaginez que vous travaillez pour une entreprise qui vend plusieurs produits dans différents pays. Chaque trimestre, cette entreprise enregistre les ventes de chaque produit dans chaque pays. Ces enregistrements sont stockés dans un tableau NumPy, où chaque colonne représente un produit et chaque ligne représente un pays. Les ventes sont cumulées sur l'année, ce qui signifie que chaque pays a 4 lignes (une pour chaque trimestre).\n",
    "\n",
    "L'entreprise a besoin de plusieurs analyses basées sur les données trimestrielles. Par exemple, elle veut connaître les performances des ventes de chaque produit pour chaque trimestre individuellement, comparer les ventes d'un trimestre à celles du trimestre précédent, ou encore identifier les tendances sur l'année."
   ]
  },
  {
   "cell_type": "code",
   "execution_count": null,
   "metadata": {},
   "outputs": [],
   "source": [
    "import numpy as np\n",
    "\n",
    "# Supposons que nous ayons un tableau de données de ventes avec 12 lignes (3 pays * 4 trimestres) et 5 produits\n",
    "data = np.random.randint(100, 1000, size=(12, 5))\n",
    "\n",
    "# Nous utilisons np.split pour diviser les données en 4 sous-tableaux (un pour chaque trimestre)\n",
    "trimestres = np.split(data, 4)\n",
    "\n",
    "for idx, trimestre in enumerate(trimestres, 1):\n",
    "    print(f\"Ventes du trimestre {idx}:\\n{trimestre}\\n\")\n"
   ]
  },
  {
   "cell_type": "markdown",
   "metadata": {},
   "source": [
    "Travaillons un peu avec le concept de modulo"
   ]
  },
  {
   "cell_type": "code",
   "execution_count": null,
   "metadata": {},
   "outputs": [],
   "source": [
    "# Créer un tableau NumPy\n",
    "array = np.array([10, 20, 30, 40, 50])\n",
    "\n",
    "# Calculer le reste de la division de chaque élément par 3\n",
    "remainder_array = np.mod(array, 3)\n",
    "\n",
    "# Afficher le tableau des restes\n",
    "print(\"Tableau des restes de la division par 3 :\\n\", remainder_array)"
   ]
  },
  {
   "cell_type": "markdown",
   "metadata": {},
   "source": [
    "\n",
    "Programme NumPy pour calculer le tableau trigonométrique sinus, cosinus et tangent d'angles donnés en degrés"
   ]
  },
  {
   "cell_type": "code",
   "execution_count": null,
   "metadata": {},
   "outputs": [],
   "source": [
    "print(\"sine: array of angles given in degrees\")\n",
    "print(np.sin(np.array((0., 30., 45., 60., 90.)) * np.pi / 180.))\n",
    "print(\"cosine: array of angles given in degrees\")\n",
    "print(np.cos(np.array((0., 30., 45., 60., 90.)) * np.pi / 180.))\n",
    "print(\"tangent: array of angles given in degrees\")\n",
    "print(np.tan(np.array((0., 30., 45., 60., 90.)) * np.pi / 180.))"
   ]
  },
  {
   "cell_type": "markdown",
   "metadata": {},
   "source": [
    "Programme NumPy pour calculer la somme cumulée des éléments le long d'un axe donné, la somme sur les lignes pour chacune des 3 colonnes et la somme sur les colonnes pour chacune des 2 lignes d'un tableau 3x3 donné."
   ]
  },
  {
   "cell_type": "code",
   "execution_count": null,
   "metadata": {},
   "outputs": [],
   "source": [
    "x = np.array([[1, 2, 3], [4, 5, 6]])\n",
    "print(\"Original array: \")\n",
    "print(x)\n",
    "print(\"Cumulative sum of the elements along a given axis:\")\n",
    "r = np.cumsum(x)\n",
    "print(r)\n",
    "print(\"\\nSum over rows for each of the 3 columns:\")\n",
    "r = np.cumsum(x, axis=0)\n",
    "print(r)\n",
    "print(\"\\nSum over columns for each of the 2 rows:\")\n",
    "r = np.cumsum(x, axis=1)\n",
    "print(r)"
   ]
  },
  {
   "cell_type": "markdown",
   "metadata": {},
   "source": [
    "Programme NumPy pour calculer la différence entre les éléments voisins, élément par élément, pour un tableau donné."
   ]
  },
  {
   "cell_type": "code",
   "execution_count": null,
   "metadata": {},
   "outputs": [],
   "source": [
    "x = np.array([1, 3, 5, 7, 0])\n",
    "print(\"Original array: \")\n",
    "print(x)\n",
    "print(\"Difference between neighboring elements, element-wise of the said array.\")\n",
    "print(np.diff(x))"
   ]
  },
  {
   "cell_type": "markdown",
   "metadata": {},
   "source": [
    "Programme NumPy pour calculer la valeur numérique négative pour tous les éléments d'un tableau donné."
   ]
  },
  {
   "cell_type": "code",
   "execution_count": null,
   "metadata": {},
   "outputs": [],
   "source": [
    "x = np.array([0, 1, -1])\n",
    "print(\"Original array: \")\n",
    "print(x)\n",
    "r1 = np.negative(x)\n",
    "r2 = -x\n",
    "assert np.array_equal(r1, r2)\n",
    "print(\"Numerical negative value for all elements of the said array:\")\n",
    "print(r1)"
   ]
  },
  {
   "cell_type": "markdown",
   "metadata": {},
   "source": [
    "Programme NumPy pour calculer l'inverse de tous les éléments d'un tableau donné"
   ]
  },
  {
   "cell_type": "code",
   "execution_count": null,
   "metadata": {},
   "outputs": [],
   "source": [
    "x = np.array([1., 2., .2, .3])\n",
    "print(\"Original array: \")\n",
    "print(x)\n",
    "r1 = np.reciprocal(x)\n",
    "r2 = 1/x\n",
    "assert np.array_equal(r1, r2)\n",
    "print(\"Reciprocal for all elements of the said array:\")\n",
    "print(r1)"
   ]
  },
  {
   "cell_type": "markdown",
   "metadata": {},
   "source": [
    "Programme NumPy pour calculer une indication élément par élément du signe pour tous les éléments d'un tableau donné"
   ]
  },
  {
   "cell_type": "code",
   "execution_count": null,
   "metadata": {},
   "outputs": [],
   "source": [
    "x = np.array([1, 3, 5, 0, -1, -7, 0, 5])\n",
    "print(\"Original array;\")\n",
    "print(x)\n",
    "r1 = np.sign(x)\n",
    "r2 = np.copy(x)\n",
    "r2[r2 > 0] = 1\n",
    "r2[r2 < 0] = -1\n",
    "assert np.array_equal(r1, r2)\n",
    "print(\"Element-wise indication of the sign for all elements of the said array:\")\n",
    "print(r1)"
   ]
  },
  {
   "cell_type": "markdown",
   "metadata": {},
   "source": [
    "Obtention des valeurs minimales et maximales"
   ]
  },
  {
   "cell_type": "code",
   "execution_count": null,
   "metadata": {},
   "outputs": [],
   "source": [
    "a = np.arange(4).reshape((2, 2))\n",
    "print(\"Original flattened array:\")\n",
    "print(a)\n",
    "print(\"Maximum value of the above flattened array:\")\n",
    "print(np.amax(a))\n",
    "print(\"Minimum value of the above flattened array:\")\n",
    "print(np.amin(a))"
   ]
  },
  {
   "cell_type": "markdown",
   "metadata": {},
   "source": [
    "Programme NumPy pour multiplier les valeurs de deux vecteurs donnés"
   ]
  },
  {
   "cell_type": "code",
   "execution_count": null,
   "metadata": {},
   "outputs": [],
   "source": [
    "x = np.array([1, 8, 3, 5])\n",
    "print(\"Vector-1\")\n",
    "print(x)\n",
    "y = np.random.randint(0, 11, 4)\n",
    "print(\"Vector-2\")\n",
    "print(y)\n",
    "result = x * y\n",
    "print(\"Multiply the values of two said vectors:\")\n",
    "print(result)"
   ]
  },
  {
   "cell_type": "markdown",
   "metadata": {},
   "source": [
    "\n",
    "Programme NumPy pour calculer la différence entre les valeurs maximales et minimales d'un tableau donné le long d'un axe"
   ]
  },
  {
   "cell_type": "code",
   "execution_count": null,
   "metadata": {},
   "outputs": [],
   "source": [
    "x = np.arange(12).reshape((2, 6))\n",
    "print(\"\\nOriginal array:\")\n",
    "print(x)\n",
    "r1 = np.ptp(x, 1)\n",
    "r2 = np.amax(x, 1) - np.amin(x, 1)\n",
    "assert np.allclose(r1, r2)\n",
    "print(\"\\nDifference between the maximum and the minimum values of the said array:\")\n",
    "print(r1)"
   ]
  },
  {
   "cell_type": "markdown",
   "metadata": {},
   "source": [
    "**Numpy string operations**"
   ]
  },
  {
   "cell_type": "markdown",
   "metadata": {},
   "source": [
    "Concatenation : rajoutez simplement des espaces entre les mots concaténés dans le code suivant"
   ]
  },
  {
   "cell_type": "code",
   "execution_count": null,
   "metadata": {},
   "outputs": [],
   "source": [
    ">>> word = \"Solution\"\n",
    ">>> another_word = \"another solution\"\n",
    ">>> third_word = \"3rd solution!\"\n",
    ">>> all_words = word+another_word+third_word\n",
    ">>> all_words\n",
    "'Solutionanother solution3rd solution!'"
   ]
  },
  {
   "cell_type": "markdown",
   "metadata": {},
   "source": [
    "Il y a plusieurs manières de concaténer, une approche un peu plus subtile ..."
   ]
  },
  {
   "cell_type": "code",
   "execution_count": null,
   "metadata": {},
   "outputs": [],
   "source": [
    "array1 = np.array(['Hello', 'World'])\n",
    "array2 = np.array([', ', 'NumPy'])\n",
    "\n",
    "# Utiliser np.char.add pour concaténer les chaînes de caractères\n",
    "concatenated_array = np.char.add(array1, array2)\n",
    "\n",
    "# Afficher le tableau résultant\n",
    "print(\"Tableau concaténé :\\n\", concatenated_array)"
   ]
  },
  {
   "cell_type": "markdown",
   "metadata": {},
   "source": [
    "Répétition de strings et découpage"
   ]
  },
  {
   "cell_type": "code",
   "execution_count": null,
   "metadata": {},
   "outputs": [],
   "source": [
    "# Repeat strings with *\n",
    "3 * \"data \" # 'data data data '\n",
    "\n",
    "# Split a string on a delimiter\n",
    "\"beekeepers\".split(\"e\") # ['b', '', 'k', '', 'p', 'rs']"
   ]
  },
  {
   "cell_type": "markdown",
   "metadata": {},
   "source": [
    "Et maintenant, apprenons à compter des répétitions ..."
   ]
  },
  {
   "cell_type": "code",
   "execution_count": null,
   "metadata": {},
   "outputs": [],
   "source": [
    "array = np.array(['Hello, world!', 'Python programming', 'Hello, Python'])\n",
    "\n",
    "# Utiliser np.char.count pour compter le nombre d'occurrences de la sous-chaîne 'Hello' dans chaque élément\n",
    "count_array = np.char.count(array, 'Hello')\n",
    "\n",
    "# Afficher le tableau résultant\n",
    "print(\"Tableau de comptage d'occurrences :\\n\", count_array)"
   ]
  },
  {
   "cell_type": "markdown",
   "metadata": {},
   "source": [
    "Remplacement, majuscules, minuscules"
   ]
  },
  {
   "cell_type": "code",
   "execution_count": null,
   "metadata": {},
   "outputs": [],
   "source": [
    "# Create a string named str\n",
    "str = \"Jack and Jill\"\n",
    "\n",
    "# Convert a string to uppercase\n",
    "str.upper() # 'JACK AND JILL'\n",
    "\n",
    "# Convert a string to lowercase\n",
    "str.lower() # 'jack and jill'\n",
    "\n",
    "# Convert a string to title case\n",
    "str.title() # 'Jack And Jill' \n",
    "\n",
    "# Replaces matches of a substring with another\n",
    "str.replace(\"J\", \"P\") # 'Pack and Pill'"
   ]
  },
  {
   "cell_type": "markdown",
   "metadata": {},
   "source": [
    "Exemple d'utilisation d'index dans un string"
   ]
  },
  {
   "cell_type": "code",
   "execution_count": null,
   "metadata": {},
   "outputs": [],
   "source": [
    "s = \"Electrical & Electronic Engineering\"\n",
    "print(s[3])\n",
    "# Slicing the above string\n",
    "#[start:end:increment]\n",
    "print(s[0:25:2])"
   ]
  },
  {
   "cell_type": "markdown",
   "metadata": {},
   "source": [
    "Utilisez les index pour n'avoir que Jack (en partant du début), ou que Jill (en partant d'un index choisi de manière pertinente)"
   ]
  },
  {
   "cell_type": "code",
   "execution_count": null,
   "metadata": {},
   "outputs": [],
   "source": [
    "str = \"Jack and Jill\"\n",
    "..."
   ]
  },
  {
   "cell_type": "markdown",
   "metadata": {},
   "source": [
    "Distinguer lettres et nombres"
   ]
  },
  {
   "cell_type": "code",
   "execution_count": null,
   "metadata": {},
   "outputs": [],
   "source": [
    "a = np.array(['a', 'b', '0'])\n",
    "np.char.isdigit(a)\n",
    "\n",
    "a = np.array([['a', 'b', '0'], ['c', '1', '2']])\n",
    "np.char.isdigit(a)\n"
   ]
  },
  {
   "cell_type": "markdown",
   "metadata": {},
   "source": [
    "Quel est l'inverse de isdigit ? Montrez ci-dessous une application "
   ]
  },
  {
   "cell_type": "code",
   "execution_count": null,
   "metadata": {},
   "outputs": [],
   "source": []
  },
  {
   "cell_type": "markdown",
   "metadata": {},
   "source": [
    "Longueur d'une string"
   ]
  },
  {
   "cell_type": "code",
   "execution_count": null,
   "metadata": {},
   "outputs": [],
   "source": [
    "a = np.array(['Grace Hopper Conference', 'Open Source Day'])\n",
    "np.char.str_len(a)"
   ]
  },
  {
   "cell_type": "markdown",
   "metadata": {},
   "source": [
    "Trouver les strings qui terminent par un pattern. Modifier le code pour vous intéresser à ce qui commence par un pattern"
   ]
  },
  {
   "cell_type": "code",
   "execution_count": null,
   "metadata": {},
   "outputs": [],
   "source": [
    "\n",
    "s = np.array(['foo', 'bar'])\n",
    "s[0] = 'foo'\n",
    "s[1] = 'bar'\n",
    "s\n",
    "\n",
    "np.char.endswith(s, 'ar')"
   ]
  },
  {
   "cell_type": "markdown",
   "metadata": {},
   "source": [
    "Pour information, on peut passer d'un string à un array"
   ]
  },
  {
   "cell_type": "code",
   "execution_count": null,
   "metadata": {},
   "outputs": [],
   "source": [
    "\n",
    "\n",
    "# Créer une chaîne de caractères contenant des données binaires (ex. : 8 octets)\n",
    "binary_data = b'\\x01\\x02\\x03\\x04\\x05\\x06\\x07\\x08'\n",
    "\n",
    "# Utiliser np.fromstring pour convertir la chaîne de caractères en un tableau NumPy\n",
    "numpy_array = np.fromstring(binary_data, dtype=np.uint8)\n",
    "\n",
    "# Afficher le tableau NumPy résultant\n",
    "print(\"Tableau NumPy à partir de la chaîne binaire :\\n\", numpy_array)\n",
    "\n",
    "# Vous pouvez maintenant manipuler le tableau NumPy comme vous le souhaitez\n"
   ]
  },
  {
   "cell_type": "markdown",
   "metadata": {},
   "source": [
    "Vectorisation d'une string : montons un peu en compétence"
   ]
  },
  {
   "cell_type": "code",
   "execution_count": null,
   "metadata": {},
   "outputs": [],
   "source": [
    "import numpy as np\n",
    "from collections import Counter\n",
    "\n",
    "def string_to_vector(str):\n",
    "    # Count the frequency of each character in the string\n",
    "    char_freq = Counter(str)\n",
    "    # Create a vector from the frequencies\n",
    "    vector = np.zeros(256)  # Assuming ASCII characters\n",
    "    for char, freq in char_freq.items():\n",
    "        vector[ord(char)] = freq\n",
    "    return vector\n"
   ]
  },
  {
   "cell_type": "markdown",
   "metadata": {},
   "source": [
    "Testez cette fonction sur un exemple de votre choix, et tâchez de deviner ce que que Counter a fait"
   ]
  },
  {
   "cell_type": "code",
   "execution_count": null,
   "metadata": {},
   "outputs": [],
   "source": [
    "string_to_vector(\"Je suis professeur\")"
   ]
  },
  {
   "cell_type": "markdown",
   "metadata": {},
   "source": [
    "Un peu d'aide ..."
   ]
  },
  {
   "cell_type": "code",
   "execution_count": null,
   "metadata": {},
   "outputs": [],
   "source": [
    "# Using Counter with a string\n",
    "string = \"mississippi\"\n",
    "char_count = Counter(string)\n",
    "print(char_count)"
   ]
  },
  {
   "cell_type": "markdown",
   "metadata": {},
   "source": [
    "Définition d'une fonction de similarité"
   ]
  },
  {
   "cell_type": "code",
   "execution_count": null,
   "metadata": {},
   "outputs": [],
   "source": [
    "def cosine_similarity(str1, str2):\n",
    "    # Convert strings to vectors\n",
    "    vec1 = string_to_vector(str1)\n",
    "    vec2 = string_to_vector(str2)\n",
    "    \n",
    "    # Compute the cosine similarity\n",
    "    similarity = np.dot(vec1, vec2) / (np.linalg.norm(vec1) * np.linalg.norm(vec2))\n",
    "    return similarity\n",
    "\n",
    "str1 = \"hello\"\n",
    "str2 = \"yellow\"\n",
    "\n",
    "similarity = cosine_similarity(str1, str2)\n",
    "print(f\"Cosine Similarity: {similarity}\")\n"
   ]
  },
  {
   "cell_type": "code",
   "execution_count": null,
   "metadata": {},
   "outputs": [
    {
     "name": "stderr",
     "output_type": "stream",
     "text": [
      "ERROR: Could not find a version that satisfies the requirement CharVectorizer (from versions: none)\n",
      "ERROR: No matching distribution found for CharVectorizer\n",
      "\n",
      "[notice] A new release of pip is available: 23.2.1 -> 23.3.1\n",
      "[notice] To update, run: C:\\Users\\matth\\AppData\\Local\\Microsoft\\WindowsApps\\PythonSoftwareFoundation.Python.3.11_qbz5n2kfra8p0\\python.exe -m pip install --upgrade pip\n"
     ]
    }
   ],
   "source": [
    "!pip install CharVectorizer"
   ]
  },
  {
   "cell_type": "markdown",
   "metadata": {},
   "source": [
    "**Searching & sorting**"
   ]
  },
  {
   "cell_type": "markdown",
   "metadata": {},
   "source": [
    "L'approche classique du sorting avec Numpy"
   ]
  },
  {
   "cell_type": "code",
   "execution_count": null,
   "metadata": {},
   "outputs": [],
   "source": [
    "import numpy as np\n",
    "import pandas as pd"
   ]
  },
  {
   "cell_type": "code",
   "execution_count": null,
   "metadata": {},
   "outputs": [],
   "source": [
    "a = np.array([[1,4],[3,1]])\n",
    "np.sort(a)                # sort along the last axis\n",
    "\n",
    "     # sort along the first axis\n"
   ]
  },
  {
   "cell_type": "code",
   "execution_count": null,
   "metadata": {},
   "outputs": [],
   "source": [
    "np.sort(a, axis=None)     # sort the flattened array"
   ]
  },
  {
   "cell_type": "code",
   "execution_count": null,
   "metadata": {},
   "outputs": [],
   "source": [
    "np.sort(a, axis=0)   "
   ]
  },
  {
   "cell_type": "markdown",
   "metadata": {},
   "source": [
    "Préciser sur quel champ réaliser le tri"
   ]
  },
  {
   "cell_type": "code",
   "execution_count": null,
   "metadata": {},
   "outputs": [],
   "source": [
    "dtype = [('name', 'S10'), ('height', float), ('age', int)]\n",
    "values = [('Arthur', 1.8, 41), ('Lancelot', 1.9, 38),\n",
    "          ('Galahad', 1.7, 38)]\n",
    "a = np.array(values, dtype=dtype)       # create a structured array\n",
    "np.sort(a, order='height') "
   ]
  },
  {
   "cell_type": "code",
   "execution_count": null,
   "metadata": {},
   "outputs": [],
   "source": [
    "pd.DataFrame(a)"
   ]
  },
  {
   "cell_type": "code",
   "execution_count": null,
   "metadata": {},
   "outputs": [],
   "source": [
    "pd.DataFrame(np.sort(a, order='height') )"
   ]
  },
  {
   "cell_type": "markdown",
   "metadata": {},
   "source": [
    "Testez le code suivant, que se passe-t-il ?"
   ]
  },
  {
   "cell_type": "code",
   "execution_count": null,
   "metadata": {},
   "outputs": [],
   "source": [
    "np.sort(a, order=['age', 'height'])     "
   ]
  },
  {
   "cell_type": "markdown",
   "metadata": {},
   "source": [
    "Un exemple avec np.where"
   ]
  },
  {
   "cell_type": "code",
   "execution_count": null,
   "metadata": {},
   "outputs": [],
   "source": [
    "import numpy as np\n",
    "\n",
    "# Creating a sample array\n",
    "arr = np.array([1, 2, 3, 4, 5, 6, 7, 8, 9])\n",
    "\n",
    "# Define the condition\n",
    "condition = arr > 5\n",
    "\n",
    "# Find indices where condition is True\n",
    "indices = np.where(condition)\n",
    "\n",
    "print(\"Indices of elements greater than 5:\", indices[0])\n"
   ]
  },
  {
   "cell_type": "markdown",
   "metadata": {},
   "source": [
    "**Numpy images**"
   ]
  },
  {
   "cell_type": "markdown",
   "metadata": {},
   "source": []
  },
  {
   "cell_type": "code",
   "execution_count": null,
   "metadata": {},
   "outputs": [],
   "source": [
    "#pip install opencv-python"
   ]
  },
  {
   "cell_type": "code",
   "execution_count": null,
   "metadata": {},
   "outputs": [],
   "source": [
    "import matplotlib.pyplot as plt\n",
    "import numpy as np\n",
    "image=plt.imread(\"G:/My Drive/Enseignements/Albert School/Cours/Numpy - B1/image.jpg\")"
   ]
  },
  {
   "cell_type": "code",
   "execution_count": null,
   "metadata": {},
   "outputs": [],
   "source": [
    "red=image[:,:,0]\n",
    "plt.imshow(red)"
   ]
  },
  {
   "cell_type": "code",
   "execution_count": null,
   "metadata": {},
   "outputs": [],
   "source": [
    "image[:,:,1]"
   ]
  },
  {
   "cell_type": "code",
   "execution_count": null,
   "metadata": {},
   "outputs": [],
   "source": [
    "plt.imshow(image[:,:,2])"
   ]
  },
  {
   "cell_type": "code",
   "execution_count": null,
   "metadata": {},
   "outputs": [],
   "source": [
    "plt.imshow(image) "
   ]
  },
  {
   "cell_type": "code",
   "execution_count": null,
   "metadata": {},
   "outputs": [],
   "source": [
    "plt.imshow(np.flipud(image))\n"
   ]
  },
  {
   "cell_type": "code",
   "execution_count": null,
   "metadata": {},
   "outputs": [],
   "source": [
    "plt.imshow(np.fliplr(image))"
   ]
  }
 ],
 "metadata": {
  "kernelspec": {
   "display_name": "Python 3",
   "language": "python",
   "name": "python3"
  },
  "language_info": {
   "codemirror_mode": {
    "name": "ipython",
    "version": 3
   },
   "file_extension": ".py",
   "mimetype": "text/x-python",
   "name": "python",
   "nbconvert_exporter": "python",
   "pygments_lexer": "ipython3",
   "version": "3.10.4"
  }
 },
 "nbformat": 4,
 "nbformat_minor": 2
}
